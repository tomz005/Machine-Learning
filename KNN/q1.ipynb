{
 "cells": [
  {
   "cell_type": "code",
   "execution_count": 1,
   "metadata": {
    "colab": {
     "base_uri": "https://localhost:8080/",
     "height": 122
    },
    "colab_type": "code",
    "id": "BN4mzGqibX8s",
    "outputId": "599bb968-5869-49c6-ba01-2bd8dbe397d6"
   },
   "outputs": [
    {
     "name": "stdout",
     "output_type": "stream",
     "text": [
      "Go to this URL in a browser: https://accounts.google.com/o/oauth2/auth?client_id=947318989803-6bn6qk8qdgf4n4g3pfee6491hc0brc4i.apps.googleusercontent.com&redirect_uri=urn%3aietf%3awg%3aoauth%3a2.0%3aoob&response_type=code&scope=email%20https%3a%2f%2fwww.googleapis.com%2fauth%2fdocs.test%20https%3a%2f%2fwww.googleapis.com%2fauth%2fdrive%20https%3a%2f%2fwww.googleapis.com%2fauth%2fdrive.photos.readonly%20https%3a%2f%2fwww.googleapis.com%2fauth%2fpeopleapi.readonly\n",
      "\n",
      "Enter your authorization code:\n",
      "··········\n",
      "Mounted at /content/drive\n"
     ]
    }
   ],
   "source": [
    "# from google.colab import drive\n",
    "# drive.mount('/content/drive')"
   ]
  },
  {
   "cell_type": "code",
   "execution_count": 0,
   "metadata": {
    "colab": {},
    "colab_type": "code",
    "id": "b-tpltS5bID7"
   },
   "outputs": [],
   "source": [
    "import pandas as pd\n",
    "import numpy as np\n",
    "import matplotlib.pyplot as plt\n",
    "import math\n",
    "import operator\n",
    "from sklearn.metrics import accuracy_score,f1_score,confusion_matrix\n",
    "from sklearn.neighbors import KNeighborsClassifier"
   ]
  },
  {
   "cell_type": "code",
   "execution_count": 0,
   "metadata": {
    "colab": {},
    "colab_type": "code",
    "id": "_ZzxDwORbIEE"
   },
   "outputs": [],
   "source": [
    "def distance_calc(param):\n",
    "    if(param==1):\n",
    "        #Euclidean Distance\n",
    "        for i in validate_images:\n",
    "            for j in train_images:\n",
    "                euclid_distance=np.sum((i-j)**2)\n",
    "                distances.append(euclid_distance)\n",
    "                \n",
    "    else:\n",
    "        #Manhattan Distance\n",
    "        for i in validate_images:\n",
    "          for j in train_images:\n",
    "            manhatten_distance=np.sum(abs(i-j))\n",
    "            distances.append(manhatten_distance)"
   ]
  },
  {
   "cell_type": "code",
   "execution_count": 0,
   "metadata": {
    "colab": {},
    "colab_type": "code",
    "id": "-udDQcR6bIEK"
   },
   "outputs": [],
   "source": [
    "def predict_number(list_k):\n",
    "    votes={}\n",
    "    for i in range(len(list_k)):\n",
    "        response=list_k[i][1];\n",
    "        if(response in votes):\n",
    "            votes[response]+=1\n",
    "        else:\n",
    "            votes[response]=1\n",
    "    # print(votes)\n",
    "    sorted_votes=sorted(votes.items(),key=lambda item: item[1])\n",
    "    # print(sorted_votes)\n",
    "    return sorted_votes[len(sorted_votes)-1][0]\n",
    "    "
   ]
  },
  {
   "cell_type": "code",
   "execution_count": 0,
   "metadata": {
    "colab": {},
    "colab_type": "code",
    "id": "KPD4Pjn_bIEP"
   },
   "outputs": [],
   "source": [
    "def knn(train_images,train_labels,validate_images,validate_labels,k):\n",
    "    predicted_list=[]\n",
    "    list_k=[]\n",
    "    for i in range(0,len(distances),len(train_images)):\n",
    "        for j in range(i+0,i+len(train_images)):\n",
    "            list_k.append((distances[j],train_labels[j%len(train_labels)]))\n",
    "            if(len(list_k)>k):\n",
    "                list_k.sort()\n",
    "                list_k=list_k[:k]\n",
    "        predicted_list.append(predict_number(list_k))\n",
    "        list_k.clear()\n",
    "    # print(len(predicted_list))\n",
    "    return predicted_list\n",
    "    # return accuracy_score(validate_labels,predicted_list)\n",
    "    # for j in range(len(validate_images)):\n",
    "    #     print(validate_labels[j],predicted_list[j])\n",
    "    # print(\"Cluster value:\",k,accuracy_score(validate_labels,predicted_list))\n",
    "    "
   ]
  },
  {
   "cell_type": "code",
   "execution_count": 0,
   "metadata": {
    "colab": {},
    "colab_type": "code",
    "id": "-ruGlB3XZZG6"
   },
   "outputs": [],
   "source": [
    "def sklearn_knn(train_images,train_labels,validate_images,validate_labels):\n",
    "    score=[]\n",
    "    kv=[]\n",
    "    print(\"Scikit learn KNN Accuracy\")\n",
    "    for k in range(5,25,5):\n",
    "      knn=KNeighborsClassifier(n_neighbors=k)\n",
    "      knn.fit(train_images,train_labels)\n",
    "      predicted_labels=knn.predict(validate_images)\n",
    "      score.append(accuracy_score(validate_labels,predicted_labels))\n",
    "      kv.append(k)\n",
    "    plt.plot(kv,score)\n",
    "    plt.xlabel('K value')\n",
    "    plt.ylabel('Accuracy')\n",
    "    plt.show()"
   ]
  },
  {
   "cell_type": "code",
   "execution_count": 0,
   "metadata": {
    "colab": {},
    "colab_type": "code",
    "id": "b78K6zlqbIEU"
   },
   "outputs": [],
   "source": [
    "filename='./Datasets/q1/train.csv'\n",
    "data=pd.read_csv(filename,header=None)\n",
    "# data=data.head(5000)"
   ]
  },
  {
   "cell_type": "code",
   "execution_count": 0,
   "metadata": {
    "colab": {},
    "colab_type": "code",
    "id": "SuqOmTQXbIEb"
   },
   "outputs": [],
   "source": [
    "msk = np.random.rand(len(data)) < 0.8\n",
    "train_df = data[msk]\n",
    "validate_df = data[~msk]"
   ]
  },
  {
   "cell_type": "code",
   "execution_count": 9,
   "metadata": {
    "colab": {
     "base_uri": "https://localhost:8080/",
     "height": 34
    },
    "colab_type": "code",
    "id": "eov4bEMqbIEg",
    "outputId": "bfcac8f4-d8ca-420b-cc11-8f93967e25c5"
   },
   "outputs": [
    {
     "data": {
      "text/plain": [
       "15943"
      ]
     },
     "execution_count": 9,
     "metadata": {
      "tags": []
     },
     "output_type": "execute_result"
    }
   ],
   "source": [
    "len(train_df)"
   ]
  },
  {
   "cell_type": "code",
   "execution_count": 10,
   "metadata": {
    "colab": {
     "base_uri": "https://localhost:8080/",
     "height": 34
    },
    "colab_type": "code",
    "id": "YLIh07bUbIEn",
    "outputId": "3571cb0e-ecdc-48e3-86fb-3435a4d1291e"
   },
   "outputs": [
    {
     "data": {
      "text/plain": [
       "4057"
      ]
     },
     "execution_count": 10,
     "metadata": {
      "tags": []
     },
     "output_type": "execute_result"
    }
   ],
   "source": [
    "len(validate_df)"
   ]
  },
  {
   "cell_type": "code",
   "execution_count": 0,
   "metadata": {
    "colab": {},
    "colab_type": "code",
    "id": "WN8kX2LNbIEt"
   },
   "outputs": [],
   "source": [
    "train_array=train_df.to_numpy()\n",
    "train_labels=train_array[:,0]\n",
    "train_images=train_array[:,1:]"
   ]
  },
  {
   "cell_type": "code",
   "execution_count": 0,
   "metadata": {
    "colab": {},
    "colab_type": "code",
    "id": "jWawKeF5bIEy"
   },
   "outputs": [],
   "source": [
    "validate_array=validate_df.to_numpy()\n",
    "validate_labels=validate_array[:,0]\n",
    "validate_images=validate_array[:,1:]\n",
    "distances=[]\n",
    "distance_calc(2)"
   ]
  },
  {
   "cell_type": "code",
   "execution_count": 13,
   "metadata": {
    "colab": {
     "base_uri": "https://localhost:8080/",
     "height": 1000
    },
    "colab_type": "code",
    "id": "Zl5ciCGFbIE3",
    "outputId": "725470c0-dc3c-4ac3-f09c-ff5723f964ed"
   },
   "outputs": [
    {
     "name": "stdout",
     "output_type": "stream",
     "text": [
      "F1 score :  0.9467586886862214\n",
      "Confusion Matrix :  [[430   0   0   0   0   2   1   0   1   0]\n",
      " [  0 425   0   0   0   0   0   0   0   2]\n",
      " [  3  10 405   2   1   1   3  12   0   1]\n",
      " [  0   1   5 385   0   5   0   4   0   4]\n",
      " [  2   6   0   0 337   0   2   0   0  10]\n",
      " [  1   6   0   5   0 333   7   0   0   3]\n",
      " [  6   1   1   0   0   1 396   0   1   0]\n",
      " [  0   9   1   0   0   0   0 415   0   5]\n",
      " [  2   8   5  13   3  13   4   3 309  15]\n",
      " [  3   2   0   3   5   0   0  12   0 406]]\n",
      "F1 score :  0.9420754251910278\n",
      "Confusion Matrix :  [[429   0   0   0   0   2   2   0   1   0]\n",
      " [  0 426   0   0   0   0   0   0   0   1]\n",
      " [  5  10 404   1   0   0   4  13   0   1]\n",
      " [  0   4   3 384   0   3   0   5   1   4]\n",
      " [  0   8   1   0 333   0   3   0   0  12]\n",
      " [  0   7   1   8   0 326   7   0   0   6]\n",
      " [  5   2   3   0   0   2 393   0   1   0]\n",
      " [  0  10   1   0   1   0   0 411   0   7]\n",
      " [  3  10   3  11   2  10   4   4 312  16]\n",
      " [  4   1   1   3   5   0   0  13   0 404]]\n",
      "F1 score :  0.9405964998767562\n",
      "Confusion Matrix :  [[430   0   0   0   0   2   1   0   1   0]\n",
      " [  0 426   0   0   0   0   0   1   0   0]\n",
      " [  5  12 399   1   0   1   4  14   1   1]\n",
      " [  0   5   3 384   0   2   0   6   0   4]\n",
      " [  1   9   0   0 335   0   2   1   0   9]\n",
      " [  1   9   0   6   1 325   7   0   0   6]\n",
      " [  5   2   2   0   1   2 394   0   0   0]\n",
      " [  0  10   0   0   0   0   0 412   0   8]\n",
      " [  4  12   4   8   2   8   5   5 312  15]\n",
      " [  3   2   1   4   8   0   0  14   0 399]]\n",
      "F1 score :  0.9361597239339413\n",
      "Confusion Matrix :  [[426   0   0   0   0   2   2   1   2   1]\n",
      " [  0 426   0   0   0   0   0   1   0   0]\n",
      " [  5  15 392   2   0   1   6  14   2   1]\n",
      " [  0   8   2 383   0   2   0   5   0   4]\n",
      " [  0   9   0   0 335   0   2   1   0  10]\n",
      " [  1  10   0   8   2 322   7   0   0   5]\n",
      " [  6   2   1   0   1   2 394   0   0   0]\n",
      " [  0  10   0   0   0   0   0 412   0   8]\n",
      " [  3  12   4  11   2  10   4   6 308  15]\n",
      " [  3   2   1   4   6   1   0  14   0 400]]\n"
     ]
    },
    {
     "data": {
      "image/png": "[encoded data removed]",
      "text/plain": [
       "<Figure size 432x288 with 1 Axes>"
      ]
     },
     "metadata": {
      "tags": []
     },
     "output_type": "display_data"
    }
   ],
   "source": [
    "score=[]\n",
    "kv=[]\n",
    "for k in range(5,25,5):\n",
    "  predic=knn(train_images,train_labels,validate_images,validate_labels,k)\n",
    "  kv.append(k)\n",
    "  score.append(accuracy_score(validate_labels,predic))\n",
    "  print('F1 score : ',f1_score(validate_labels,predic,average='micro'))\n",
    "  print('Confusion Matrix : ',confusion_matrix(validate_labels,predic))\n",
    "plt.plot(kv,score)\n",
    "plt.xlabel('K value')\n",
    "plt.ylabel('Accuracy')\n",
    "plt.show()"
   ]
  },
  {
   "cell_type": "markdown",
   "metadata": {
    "colab_type": "text",
    "id": "aBSZegWahVlb"
   },
   "source": [
    "# Knn Accuracy :\n",
    "1.Euclidean Distance\n",
    "> Steps\n",
    "- k values range was set from 5 to 25 with steps of 5.\n",
    "- Plotted the graph for multiple values.\n",
    "- Accuracy started with 95% and took a downward curve against increasing values\n",
    "- k value of 5 (Accuracy : 95.3)was chosen.\n",
    "\n",
    "2.Manhatten Distance\n",
    "> Steps\n",
    "- k values range was set from 5 to 25 with steps of 5.\n",
    "- Plotted the graph for multiple values.\n",
    "- Accuracy started with 94.8% and took a downward curve against increasing values"
   ]
  },
  {
   "cell_type": "code",
   "execution_count": 14,
   "metadata": {
    "colab": {
     "base_uri": "https://localhost:8080/",
     "height": 296
    },
    "colab_type": "code",
    "id": "u4XFYQaJZmgj",
    "outputId": "bc0ed530-642f-42d5-ff97-db2247b03261"
   },
   "outputs": [
    {
     "name": "stdout",
     "output_type": "stream",
     "text": [
      "Scikit learn KNN Accuracy\n"
     ]
    },
    {
     "data": {
      "image/png": "[encoded data removed]",
      "text/plain": [
       "<Figure size 432x288 with 1 Axes>"
      ]
     },
     "metadata": {
      "tags": []
     },
     "output_type": "display_data"
    }
   ],
   "source": [
    "sklearn_knn(train_images,train_labels,validate_images,validate_labels)"
   ]
  },
  {
   "cell_type": "markdown",
   "metadata": {
    "colab_type": "text",
    "id": "4jCmtXbuigEW"
   },
   "source": [
    "#Inbuilt Knn Classifier\n",
    "For values from 5 to 25 in steps of 5, accuracy started with ~96% followed by decrement in unit percentage values."
   ]
  },
  {
   "cell_type": "code",
   "execution_count": 0,
   "metadata": {
    "colab": {},
    "colab_type": "code",
    "id": "97etPRVLbIE-"
   },
   "outputs": [],
   "source": []
  }
 ],
 "metadata": {
  "colab": {
   "collapsed_sections": [],
   "name": "q1_python.ipynb",
   "provenance": []
  },
  "kernelspec": {
   "display_name": "Python 3",
   "language": "python",
   "name": "python3"
  },
  "language_info": {
   "codemirror_mode": {
    "name": "ipython",
    "version": 3
   },
   "file_extension": ".py",
   "mimetype": "text/x-python",
   "name": "python",
   "nbconvert_exporter": "python",
   "pygments_lexer": "ipython3",
   "version": "3.6.9"
  }
 },
 "nbformat": 4,
 "nbformat_minor": 1
}
