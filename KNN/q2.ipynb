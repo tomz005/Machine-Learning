{
 "cells": [
  {
   "cell_type": "code",
   "execution_count": 0,
   "metadata": {
    "colab": {
     "base_uri": "https://localhost:8080/",
     "height": 122
    },
    "colab_type": "code",
    "id": "c94yxv244Ipy",
    "outputId": "36ec0afd-ad78-4993-a197-79655234b28a"
   },
   "outputs": [
    {
     "name": "stdout",
     "output_type": "stream",
     "text": [
      "Go to this URL in a browser: https://accounts.google.com/o/oauth2/auth?client_id=947318989803-6bn6qk8qdgf4n4g3pfee6491hc0brc4i.apps.googleusercontent.com&redirect_uri=urn%3aietf%3awg%3aoauth%3a2.0%3aoob&response_type=code&scope=email%20https%3a%2f%2fwww.googleapis.com%2fauth%2fdocs.test%20https%3a%2f%2fwww.googleapis.com%2fauth%2fdrive%20https%3a%2f%2fwww.googleapis.com%2fauth%2fdrive.photos.readonly%20https%3a%2f%2fwww.googleapis.com%2fauth%2fpeopleapi.readonly\n",
      "\n",
      "Enter your authorization code:\n",
      "··········\n",
      "Mounted at /content/drive\n"
     ]
    }
   ],
   "source": [
    "# from google.colab import drive\n",
    "# drive.mount('/content/drive')"
   ]
  },
  {
   "cell_type": "code",
   "execution_count": 0,
   "metadata": {
    "colab": {},
    "colab_type": "code",
    "id": "tiTbOmhP470U"
   },
   "outputs": [],
   "source": [
    "import pandas as pd\n",
    "import numpy as np\n",
    "import matplotlib.pyplot as plt\n",
    "import math\n",
    "import operator\n",
    "import collections\n",
    "from sklearn.metrics import accuracy_score,confusion_matrix\n",
    "from sklearn.metrics import recall_score,precision_score,f1_score\n",
    "from scipy import stats\n",
    "from sklearn.neighbors import KNeighborsClassifier\n",
    "from random import randint"
   ]
  },
  {
   "cell_type": "markdown",
   "metadata": {
    "colab_type": "text",
    "id": "oIttbLcwfAsI"
   },
   "source": [
    "#Data Preprocessing\n",
    "Since the given training data set is categorical, **one-hot** encoding is required to be done. For it to be implemented successfuly, there should be all the possible values for a given attribute in the data, which is not.\n",
    "As a result, we append those attributes so that the final encoding has all such attributes covered.  \n",
    "Further, for columns such as *gill-attachment, gill-spacing*, there are not sufficient entries for each type specified in the description. Hence, we need to add the missing values.\n",
    "Handling missing values (?=1587) by :\n",
    "\n",
    "- removing the column itself. Not a good idea.\n",
    "- Considering ? as constant. This will treat ? as another feature and proceed so no use.\n",
    "- Replace ? with mode value seems to be best in this case."
   ]
  },
  {
   "cell_type": "markdown",
   "metadata": {
    "colab_type": "text",
    "id": "r_oAJ53WAfdB"
   },
   "source": [
    "#Code "
   ]
  },
  {
   "cell_type": "code",
   "execution_count": 0,
   "metadata": {
    "colab": {},
    "colab_type": "code",
    "id": "0SdtVdAq4ShI"
   },
   "outputs": [],
   "source": [
    "class KnnClassifier:\n",
    "\n",
    "  def __init__(self):\n",
    "    self.attributes=[['b','c','x','f','k','s'],\n",
    "                     ['f','g','y','s'],\n",
    "                     ['n','b','c','g','r','p','u','e','w','y'],\n",
    "                     ['t','f'],\n",
    "                     ['a','l','c','y','f','m','n','p','s'],\n",
    "                     ['a','d','f','n'],\n",
    "                     ['c','w','d'],\n",
    "                     ['b','n'],\n",
    "                     ['k','n','b','h','g','r','o','p','u','e','w','y'],\n",
    "                     ['e','t'],\n",
    "                     ['b','c','u','e','z','r'],\n",
    "                     ['f','y','k','s'],\n",
    "                     ['f','y','k','s'],\n",
    "                     ['n','b','c','g','o','p','e','w','y'],\n",
    "                     ['n','b','c','g','o','p','e','w','y'],\n",
    "                     ['p','u'],\n",
    "                     ['n','o','w','y'],\n",
    "                     ['n','o','t'],\n",
    "                     ['c','e','f','l','n','p','s','z'],\n",
    "                     ['k','n','b','h','r','o','u','w','y'],\n",
    "                     ['a','c','n','s','v','y'],\n",
    "                     ['g','l','m','p','u','w','d']]\n",
    "    self.distances=[]\n",
    "    # self.train_attributes\n",
    "    # # sum=0\n",
    "    # for i in range(0,22):\n",
    "    #   print(len(self.attributes[i]))\n",
    "    # # print(sum)\n",
    "\n",
    "  def calculate_distance(self,param):\n",
    "    if(param==1):\n",
    "        #Euclidean Distance\n",
    "        for i in self.validation_attributes:\n",
    "            for j in self.train_attributes:\n",
    "                euclid_distance=np.sum((i-j)**2)\n",
    "                self.distances.append(euclid_distance)\n",
    "                \n",
    "    else:\n",
    "        #Manhattan Distance\n",
    "        for i in self.validation_attributes:\n",
    "          for j in self.train_attributes:\n",
    "            manhatten_distance=np.sum(abs(i-j))\n",
    "            self.distances.append(manhatten_distance)\n",
    "\n",
    "  def predict_label(self,list_k):\n",
    "    votes={}\n",
    "    for i in range(len(list_k)):\n",
    "        response=list_k[i][1];\n",
    "        if(response in votes):\n",
    "            votes[response]+=1\n",
    "        else:\n",
    "            votes[response]=1\n",
    "    # print(votes)\n",
    "    sorted_votes=sorted(votes.items(),key=lambda item: item[1])\n",
    "    # print(sorted_votes)\n",
    "    return sorted_votes[len(sorted_votes)-1][0]\n",
    "\n",
    "  def train(self,trainfilepath):\n",
    "    data=pd.read_csv(trainfilepath,header=None)\n",
    "    data_array=data.to_numpy()\n",
    "    # print(data_array)\n",
    "    attributeinfo=np.delete(data_array,0,1)\n",
    "    addrow=attributeinfo[0,:]\n",
    "    # print(type(attributeinfo))\n",
    "    label=data_array[:,0]\n",
    "    #Finding count of ? values in column 11\n",
    "    # print(collections.Counter(attributeinfo[:,10]))\n",
    "    mode=stats.mode(attributeinfo[:,10])\n",
    "    # print(mode[0][0])\n",
    "    for i in range(len(attributeinfo)):\n",
    "      if(attributeinfo[i,10]=='?'):\n",
    "        attributeinfo[i,10]=mode[0][0]\n",
    "\n",
    "    # print(attributeinfo)\n",
    "    originallength=len(attributeinfo)\n",
    "    for i in range(0,22):\n",
    "      # print(i)\n",
    "      # print(np.unique(attributeinfo[:,i]))\n",
    "      # print(np.asarray(self.attributes[i]))\n",
    "      difference=np.setdiff1d(np.asarray(self.attributes[i]),np.unique(attributeinfo[:,i]))\n",
    "      # print(difference)\n",
    "      if(len(difference)>0):\n",
    "        for element in difference:\n",
    "          addrow[i]=element\n",
    "          attributeinfo=np.vstack([attributeinfo,addrow])\n",
    "    \n",
    "    attributeinfo_df=pd.DataFrame()\n",
    "    \n",
    "    # print(originallength)\n",
    "    for i in range(0,22):\n",
    "      attributeinfo_onehot=pd.get_dummies(attributeinfo[:,i])\n",
    "      # print(attributeinfo_onehot)\n",
    "      attributeinfo_df=pd.concat([attributeinfo_df,attributeinfo_onehot],axis=1)\n",
    "    # print(len(attributeinfo_df))\n",
    "    processed_df=attributeinfo_df.iloc[0:originallength,:]\n",
    "    # print(processed_df)\n",
    "    # processed_df['Label']=label\n",
    "    processed_df.insert(0,'Label',label)\n",
    "    # print(processed_df)\n",
    "    # print(processed_df.iloc[1606,:])\n",
    "    # attributeinfo_df.to_csv('q21hot.csv')\n",
    "    # print(type(X))\n",
    "    # print(Y)\n",
    "    # Splitting data into train & validate\n",
    "    msk = np.random.rand(len(processed_df)) < 0.8\n",
    "    train_df = processed_df[msk]\n",
    "    validation_df = processed_df[~msk]\n",
    "    # print(len(processed_df))\n",
    "    print(len(train_df))\n",
    "    # print(train_df)\n",
    "    print(len(validation_df))\n",
    "    # print(validation_df)\n",
    "    train_array=train_df.to_numpy()\n",
    "    self.train_labels=train_array[:,0]\n",
    "    self.train_attributes=train_array[:,1:]\n",
    "    validation_array=validation_df.to_numpy()\n",
    "    self.validation_labels=validation_array[:,0]\n",
    "    self.validation_attributes=validation_array[:,1:]\n",
    "    print(\"Distance calculation started\")\n",
    "    self.calculate_distance(1)\n",
    "    print(\"Distance calculation complete\")\n",
    "    print(len(self.distances))\n",
    "    # print(self.train_labels)\n",
    "    # print(self.train_attributes[0,:])\n",
    "  def predict(self,testfilepath):\n",
    "    predicted_list=[]\n",
    "    list_k=[]\n",
    "    accuracy=[]\n",
    "    precision=[]\n",
    "    recall=[]\n",
    "    f1score=[]\n",
    "    kvalue=[]\n",
    "    cm=[]\n",
    "    for k in range(2,20,1):\n",
    "      for i in range(0,len(self.distances),len(self.train_attributes)):\n",
    "        for j in range(i+0,i+len(self.train_attributes)):\n",
    "            list_k.append((self.distances[j],self.train_labels[j%len(self.train_attributes)]))\n",
    "            if(len(list_k)>k):\n",
    "                list_k.sort()\n",
    "                list_k=list_k[:k]\n",
    "        predicted_list.append(self.predict_label(list_k))\n",
    "        list_k.clear()\n",
    "        # for i in range(len(predicted_list)):\n",
    "          # print(self.validation_labels[i],predicted_list[i])\n",
    "      accuracy.append(accuracy_score(self.validation_labels,predicted_list))\n",
    "      precision.append(precision_score(self.validation_labels,predicted_list,average='micro'))\n",
    "      # recall.append(recall_score(self.validation_labels,predicted_list,average='macro'))\n",
    "      f1score.append(f1_score(self.validation_labels,predicted_list,average='micro'))\n",
    "      # cm.append(confusion_matrix(self.validation_labels,predicted_list))\n",
    "      kvalue.append(k)\n",
    "      predicted_list.clear()\n",
    "\n",
    "    print(kvalue)\n",
    "    print(accuracy)\n",
    "    print(precision)\n",
    "    # print(recall)\n",
    "    print(f1score)\n",
    "    # print(cm)\n",
    "    plt.plot(kvalue,accuracy)\n",
    "    plt.xlabel('K value')\n",
    "    plt.ylabel('Accuracy')\n",
    "    plt.show()\n",
    "\n",
    "  def sklearn_knn(self):\n",
    "    score=[]\n",
    "    kv=[]\n",
    "    print(\"Scikit lean KNN Accuracy\")\n",
    "    for k in range(2,20,1):\n",
    "      knn=KNeighborsClassifier(n_neighbors=k)\n",
    "      knn.fit(self.train_attributes,self.train_labels)\n",
    "      predicted_labels=knn.predict(self.validation_attributes)\n",
    "      score.append(accuracy_score(self.validation_labels,predicted_labels))\n",
    "      kv.append(k)\n",
    "    plt.plot(kv,score)\n",
    "    plt.xlabel('K value')\n",
    "    plt.ylabel('Accuracy')\n",
    "    plt.show()\n",
    "\n",
    "\n",
    "  def random_guessing(self):\n",
    "    guess_list=['e','p']\n",
    "    predictions=[]\n",
    "    for i in range(len(self.validation_attributes)):\n",
    "      guess_value=randint(0,10)\n",
    "      predictions.append(guess_list[guess_value%2])\n",
    "    print('Accuracy score : ',accuracy_score(self.validation_labels,predictions))\n",
    "\n",
    "\n",
    "\n",
    "  def majority_voting(self):\n",
    "    pass\n",
    "\n"
   ]
  },
  {
   "cell_type": "markdown",
   "metadata": {
    "colab_type": "text",
    "id": "cYgxlxS5bws-"
   },
   "source": [
    "#Choosing K values \n",
    "1.*Euclidean Distance*  \n",
    "\n",
    ">Steps: \n",
    "- k value range was set from 2 to 20.\n",
    "- Plotted the graph for multiple values.\n",
    "- accuracy was 100% till k = 9, after which it started dropping by 0.1%\n",
    "- Chose k=5 for my final model.  \n",
    "\n",
    "2.*Manhatten Distance*\n",
    "\n",
    ">Steps:\n",
    "- k value range was set from 2 to 20.\n",
    "- Plotted the graph for multiple values.\n",
    "- accuracy was 100% throughout.\n"
   ]
  },
  {
   "cell_type": "code",
   "execution_count": 0,
   "metadata": {
    "colab": {
     "base_uri": "https://localhost:8080/",
     "height": 748
    },
    "colab_type": "code",
    "id": "Z8S83kcq4v1v",
    "outputId": "03a06725-7694-4f06-ef08-692a6418e52d"
   },
   "outputs": [
    {
     "name": "stdout",
     "output_type": "stream",
     "text": [
      "3583\n",
      "913\n",
      "Distance calculation started\n",
      "Distance calculation complete\n",
      "3271279\n",
      "[2, 3, 4, 5, 6, 7, 8, 9, 10, 11, 12, 13, 14, 15, 16, 17, 18, 19]\n",
      "[1.0, 1.0, 1.0, 1.0, 1.0, 1.0, 1.0, 1.0, 0.9989047097480832, 0.9989047097480832, 0.9989047097480832, 0.9989047097480832, 0.9989047097480832, 0.9989047097480832, 0.9989047097480832, 0.9989047097480832, 0.9989047097480832, 0.9989047097480832]\n",
      "[1.0, 1.0, 1.0, 1.0, 1.0, 1.0, 1.0, 1.0, 0.9989047097480832, 0.9989047097480832, 0.9989047097480832, 0.9989047097480832, 0.9989047097480832, 0.9989047097480832, 0.9989047097480832, 0.9989047097480832, 0.9989047097480832, 0.9989047097480832]\n",
      "[1.0, 1.0, 1.0, 1.0, 1.0, 1.0, 1.0, 1.0, 0.9989047097480832, 0.9989047097480832, 0.9989047097480832, 0.9989047097480832, 0.9989047097480832, 0.9989047097480832, 0.9989047097480832, 0.9989047097480832, 0.9989047097480832, 0.9989047097480832]\n"
     ]
    },
    {
     "data": {
      "image/png": "[encoded data removed]",
      "text/plain": [
       "<Figure size 432x288 with 1 Axes>"
      ]
     },
     "metadata": {
      "tags": []
     },
     "output_type": "display_data"
    },
    {
     "name": "stdout",
     "output_type": "stream",
     "text": [
      "Scikit lean KNN Accuracy\n"
     ]
    },
    {
     "data": {
      "image/png": "[encoded data removed]",
      "text/plain": [
       "<Figure size 432x288 with 1 Axes>"
      ]
     },
     "metadata": {
      "tags": []
     },
     "output_type": "display_data"
    },
    {
     "name": "stdout",
     "output_type": "stream",
     "text": [
      "Accuracy score :  0.5104052573932092\n"
     ]
    }
   ],
   "source": [
    "filename='./Datasets/q2/train.csv'\n",
    "  # data=pd.read_csv(filename)\n",
    "knc=KnnClassifier()\n",
    "knc.train(filename)\n",
    "knc.predict(filename)\n",
    "knc.sklearn_knn()\n",
    "knc.random_guessing()"
   ]
  },
  {
   "cell_type": "markdown",
   "metadata": {
    "colab_type": "text",
    "id": "Abmco9-ftEBO"
   },
   "source": [
    "#Different approaches\n",
    "##Scikit-learn kNN Classifier\n",
    "\n",
    "For the same values of k, accuracy was 100% till k=10, beyond which it started dropping.\n",
    "\n",
    "##Random Guessing\n",
    "\n",
    "The predictions were made by merely guessing one of the possible labels.\n",
    "Randint() was made use of to generate a random number which would then be reduced to mod2 level.\n",
    "*Accuracy* was **51%**."
   ]
  },
  {
   "cell_type": "code",
   "execution_count": 0,
   "metadata": {
    "colab": {},
    "colab_type": "code",
    "id": "3oyals3a9Usn"
   },
   "outputs": [],
   "source": []
  }
 ],
 "metadata": {
  "accelerator": "GPU",
  "colab": {
   "name": "q2.ipynb",
   "provenance": [],
   "toc_visible": true
  },
  "kernelspec": {
   "display_name": "Python 3",
   "language": "python",
   "name": "python3"
  },
  "language_info": {
   "codemirror_mode": {
    "name": "ipython",
    "version": 3
   },
   "file_extension": ".py",
   "mimetype": "text/x-python",
   "name": "python",
   "nbconvert_exporter": "python",
   "pygments_lexer": "ipython3",
   "version": "3.6.9"
  }
 },
 "nbformat": 4,
 "nbformat_minor": 1
}
