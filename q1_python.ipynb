{
 "cells": [
  {
   "cell_type": "code",
   "execution_count": 56,
   "metadata": {},
   "outputs": [],
   "source": [
    "import pandas as pd\n",
    "import numpy as np\n",
    "import matplotlib as plt\n",
    "import math\n",
    "import operator\n",
    "from sklearn.metrics import accuracy_score\n",
    "from sklearn.model_selection import train_test_split"
   ]
  },
  {
   "cell_type": "code",
   "execution_count": 30,
   "metadata": {},
   "outputs": [],
   "source": [
    "def distance_calc(param):\n",
    "    if(param==1):\n",
    "        #Euclidean Distance\n",
    "        for i in validate_images:\n",
    "            for j in train_images:\n",
    "                euclid_distance=math.sqrt(np.sum((i-j)**2))\n",
    "                distances.append(euclid_distance)\n",
    "                \n",
    "    else:\n",
    "        #Manhattan Distance\n",
    "        print('Manhattan')"
   ]
  },
  {
   "cell_type": "code",
   "execution_count": 31,
   "metadata": {},
   "outputs": [],
   "source": [
    "def predict_number(list_k):\n",
    "    votes={}\n",
    "    for i in range(len(list_k)):\n",
    "        response=list_k[i][1];\n",
    "        if(response in votes):\n",
    "            votes[response]+=1\n",
    "        else:\n",
    "            votes[response]=1\n",
    "    sorted_votes=sorted(votes.items(),key=operator.itemgetter(1))\n",
    "    return sorted_votes[0][0]\n",
    "    "
   ]
  },
  {
   "cell_type": "code",
   "execution_count": 47,
   "metadata": {},
   "outputs": [],
   "source": [
    "def knn(train_images,train_labels,validate_images,validate_labels,k):\n",
    "#     distances=[]\n",
    "    predicted_list=[]\n",
    "    list_k=[]\n",
    "    distance_calc(1)\n",
    "    for i in range(0,len(distances),len(train_images)):\n",
    "        for j in range(i+0,i+len(train_images)):\n",
    "            list_k.append((distances[j],train_labels[j%len(train_labels)]))\n",
    "            if(len(list_k)>k):\n",
    "                list_k.sort()\n",
    "                list_k=list_k[:k]\n",
    "        predicted_list.append(predict_number(list_k))\n",
    "        list_k.clear()\n",
    "#     for i in range(len(validate_images)):\n",
    "#         print(validate_labels[i],predicted_list[i])\n",
    "    print(accuracy_score(validate_labels,predicted_list))"
   ]
  },
  {
   "cell_type": "code",
   "execution_count": 49,
   "metadata": {},
   "outputs": [],
   "source": [
    "filename='/home/tomz/Desktop/SMAI/Assignments/Assignment1 Dataset/Datasets/q1/train.csv'\n",
    "data=pd.read_csv(filename)\n",
    "data=data.head(5000)"
   ]
  },
  {
   "cell_type": "code",
   "execution_count": 50,
   "metadata": {},
   "outputs": [],
   "source": [
    "msk = np.random.rand(len(data)) < 0.8\n",
    "train_df = data[msk]\n",
    "validate_df = data[~msk]"
   ]
  },
  {
   "cell_type": "code",
   "execution_count": 51,
   "metadata": {},
   "outputs": [
    {
     "data": {
      "text/plain": [
       "3973"
      ]
     },
     "execution_count": 51,
     "metadata": {},
     "output_type": "execute_result"
    }
   ],
   "source": [
    "len(train_df)"
   ]
  },
  {
   "cell_type": "code",
   "execution_count": 52,
   "metadata": {},
   "outputs": [
    {
     "data": {
      "text/plain": [
       "1027"
      ]
     },
     "execution_count": 52,
     "metadata": {},
     "output_type": "execute_result"
    }
   ],
   "source": [
    "len(validate_df)"
   ]
  },
  {
   "cell_type": "code",
   "execution_count": 53,
   "metadata": {},
   "outputs": [],
   "source": [
    "train_array=train_df.to_numpy()\n",
    "train_labels=train_array[:,0]\n",
    "train_images=train_array[:,1:]"
   ]
  },
  {
   "cell_type": "code",
   "execution_count": 54,
   "metadata": {},
   "outputs": [],
   "source": [
    "validate_array=validate_df.to_numpy()\n",
    "validate_labels=validate_array[:,0]\n",
    "validate_images=validate_array[:,1:]\n",
    "distances=[]"
   ]
  },
  {
   "cell_type": "code",
   "execution_count": 55,
   "metadata": {},
   "outputs": [
    {
     "name": "stdout",
     "output_type": "stream",
     "text": [
      "0.8734177215189873\n"
     ]
    }
   ],
   "source": [
    "knn(train_images,train_labels,validate_images,validate_labels,3)"
   ]
  },
  {
   "cell_type": "code",
   "execution_count": null,
   "metadata": {},
   "outputs": [],
   "source": []
  }
 ],
 "metadata": {
  "kernelspec": {
   "display_name": "Python 3",
   "language": "python",
   "name": "python3"
  },
  "language_info": {
   "codemirror_mode": {
    "name": "ipython",
    "version": 3
   },
   "file_extension": ".py",
   "mimetype": "text/x-python",
   "name": "python",
   "nbconvert_exporter": "python",
   "pygments_lexer": "ipython3",
   "version": "3.6.9"
  }
 },
 "nbformat": 4,
 "nbformat_minor": 4
}
